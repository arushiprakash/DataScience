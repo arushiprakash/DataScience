{
 "cells": [
  {
   "cell_type": "markdown",
   "metadata": {},
   "source": [
    "# Hypothesis Testing for Brain Data of Males and Females\n",
    "This notebook is inspired from [this tutorial](https://www.scipy-lectures.org/packages/statistics/index.html)\n",
    "\n",
    "**About the data** - The data has several features - gender, mean intelligence quotients including full-scale IQ (FSIQ), verbal IQ (VIQ), performance IQ (PIQ), weight, height, and MRI count.\n",
    "\n",
    "**Problem Statement** - We want to test if gender has something to do with IQ"
   ]
  },
  {
   "cell_type": "markdown",
   "metadata": {},
   "source": [
    "## Importing libraries"
   ]
  },
  {
   "cell_type": "code",
   "execution_count": 189,
   "metadata": {},
   "outputs": [],
   "source": [
    "%matplotlib inline\n",
    "import matplotlib.pyplot as plt\n",
    "import pandas as pd\n",
    "import numpy as np\n",
    "from scipy import stats\n",
    "\n",
    "from pandas.tools import plotting"
   ]
  },
  {
   "cell_type": "code",
   "execution_count": 190,
   "metadata": {
    "collapsed": true
   },
   "outputs": [],
   "source": [
    "# Loading data\n",
    "data = pd.read_csv('data/brain_size.csv', sep=';', na_values=\".\")"
   ]
  },
  {
   "cell_type": "code",
   "execution_count": 191,
   "metadata": {},
   "outputs": [
    {
     "data": {
      "text/html": [
       "<div>\n",
       "<style>\n",
       "    .dataframe thead tr:only-child th {\n",
       "        text-align: right;\n",
       "    }\n",
       "\n",
       "    .dataframe thead th {\n",
       "        text-align: left;\n",
       "    }\n",
       "\n",
       "    .dataframe tbody tr th {\n",
       "        vertical-align: top;\n",
       "    }\n",
       "</style>\n",
       "<table border=\"1\" class=\"dataframe\">\n",
       "  <thead>\n",
       "    <tr style=\"text-align: right;\">\n",
       "      <th></th>\n",
       "      <th>Unnamed: 0</th>\n",
       "      <th>FSIQ</th>\n",
       "      <th>VIQ</th>\n",
       "      <th>PIQ</th>\n",
       "      <th>Weight</th>\n",
       "      <th>Height</th>\n",
       "      <th>MRI_Count</th>\n",
       "    </tr>\n",
       "    <tr>\n",
       "      <th>Gender</th>\n",
       "      <th></th>\n",
       "      <th></th>\n",
       "      <th></th>\n",
       "      <th></th>\n",
       "      <th></th>\n",
       "      <th></th>\n",
       "      <th></th>\n",
       "    </tr>\n",
       "  </thead>\n",
       "  <tbody>\n",
       "    <tr>\n",
       "      <th>Female</th>\n",
       "      <td>19.65</td>\n",
       "      <td>111.9</td>\n",
       "      <td>109.45</td>\n",
       "      <td>110.45</td>\n",
       "      <td>137.200000</td>\n",
       "      <td>65.765000</td>\n",
       "      <td>862654.6</td>\n",
       "    </tr>\n",
       "    <tr>\n",
       "      <th>Male</th>\n",
       "      <td>21.35</td>\n",
       "      <td>115.0</td>\n",
       "      <td>115.25</td>\n",
       "      <td>111.60</td>\n",
       "      <td>166.444444</td>\n",
       "      <td>71.431579</td>\n",
       "      <td>954855.4</td>\n",
       "    </tr>\n",
       "  </tbody>\n",
       "</table>\n",
       "</div>"
      ],
      "text/plain": [
       "        Unnamed: 0   FSIQ     VIQ     PIQ      Weight     Height  MRI_Count\n",
       "Gender                                                                     \n",
       "Female       19.65  111.9  109.45  110.45  137.200000  65.765000   862654.6\n",
       "Male         21.35  115.0  115.25  111.60  166.444444  71.431579   954855.4"
      ]
     },
     "execution_count": 191,
     "metadata": {},
     "output_type": "execute_result"
    }
   ],
   "source": [
    "# Data explorations\n",
    "data.groupby('Gender').mean()"
   ]
  },
  {
   "cell_type": "markdown",
   "metadata": {},
   "source": [
    "The average of values are somewhat different, and we want to drill into this data to find out if we can say for certain if Gender plays a role"
   ]
  },
  {
   "cell_type": "code",
   "execution_count": 192,
   "metadata": {},
   "outputs": [
    {
     "data": {
      "text/plain": [
       "Female         Axes(0.1,0.15;0.363636x0.75)\n",
       "Male      Axes(0.536364,0.15;0.363636x0.75)\n",
       "dtype: object"
      ]
     },
     "execution_count": 192,
     "metadata": {},
     "output_type": "execute_result"
    },
    {
     "data": {
      "image/png": "[encoded data removed]",
      "text/plain": [
       "<matplotlib.figure.Figure at 0x1a2041eef0>"
      ]
     },
     "metadata": {},
     "output_type": "display_data"
    }
   ],
   "source": [
    "data.groupby('Gender').boxplot(column=['FSIQ', 'VIQ', 'PIQ'])"
   ]
  },
  {
   "cell_type": "markdown",
   "metadata": {},
   "source": [
    "**Observation** - From the box plot we see that the data is fairly well-behaved. The box plot has not identified outliers (which are 1.5.(Q3-Q1 or inter-quartile range) from either Q1 or Q3), therefore we cannot see points beyond whiskers."
   ]
  },
  {
   "cell_type": "code",
   "execution_count": 193,
   "metadata": {},
   "outputs": [
    {
     "name": "stdout",
     "output_type": "stream",
     "text": [
      "Number of males in the study = 20\n",
      "Number of females in the study = 20\n"
     ]
    }
   ],
   "source": [
    "# What's the current gender ratio?\n",
    "print(\"Number of males in the study = %d\" \n",
    "      %(len(data[data['Gender'] == 'Male'])))\n",
    "print(\"Number of females in the study = %d\" \n",
    "      %(len(data[data['Gender'] == 'Female'])))"
   ]
  },
  {
   "cell_type": "markdown",
   "metadata": {},
   "source": [
    "## Data Exploration\n",
    "### Univariate and bivariate analysis"
   ]
  },
  {
   "cell_type": "code",
   "execution_count": 194,
   "metadata": {},
   "outputs": [
    {
     "name": "stderr",
     "output_type": "stream",
     "text": [
      "/Users/jimpfaendtner/anaconda3/lib/python3.6/site-packages/ipykernel_launcher.py:1: FutureWarning: 'pandas.tools.plotting.scatter_matrix' is deprecated, import 'pandas.plotting.scatter_matrix' instead.\n",
      "  \"\"\"Entry point for launching an IPython kernel.\n"
     ]
    },
    {
     "data": {
      "text/plain": [
       "array([[<matplotlib.axes._subplots.AxesSubplot object at 0x1a206585c0>,\n",
       "        <matplotlib.axes._subplots.AxesSubplot object at 0x1a20780550>,\n",
       "        <matplotlib.axes._subplots.AxesSubplot object at 0x1a2078f198>],\n",
       "       [<matplotlib.axes._subplots.AxesSubplot object at 0x1a2084e6a0>,\n",
       "        <matplotlib.axes._subplots.AxesSubplot object at 0x1a1f065c50>,\n",
       "        <matplotlib.axes._subplots.AxesSubplot object at 0x1a1f0d9ac8>],\n",
       "       [<matplotlib.axes._subplots.AxesSubplot object at 0x1a202276d8>,\n",
       "        <matplotlib.axes._subplots.AxesSubplot object at 0x1a1fe78470>,\n",
       "        <matplotlib.axes._subplots.AxesSubplot object at 0x1a1f1a72b0>]], dtype=object)"
      ]
     },
     "execution_count": 194,
     "metadata": {},
     "output_type": "execute_result"
    },
    {
     "data": {
      "image/png": "[encoded data removed]",
      "text/plain": [
       "<matplotlib.figure.Figure at 0x1a206856d8>"
      ]
     },
     "metadata": {},
     "output_type": "display_data"
    }
   ],
   "source": [
    "plotting.scatter_matrix(data[['PIQ', 'VIQ', 'FSIQ']])   "
   ]
  },
  {
   "cell_type": "code",
   "execution_count": 195,
   "metadata": {},
   "outputs": [],
   "source": [
    "female_data = data[data['Gender'] == 'Female']\n",
    "male_data = data[data['Gender'] == 'Male']"
   ]
  },
  {
   "cell_type": "code",
   "execution_count": 196,
   "metadata": {},
   "outputs": [
    {
     "name": "stderr",
     "output_type": "stream",
     "text": [
      "/Users/jimpfaendtner/anaconda3/lib/python3.6/site-packages/ipykernel_launcher.py:1: FutureWarning: 'pandas.tools.plotting.scatter_matrix' is deprecated, import 'pandas.plotting.scatter_matrix' instead.\n",
      "  \"\"\"Entry point for launching an IPython kernel.\n"
     ]
    },
    {
     "data": {
      "text/plain": [
       "array([[<matplotlib.axes._subplots.AxesSubplot object at 0x1a202cb320>,\n",
       "        <matplotlib.axes._subplots.AxesSubplot object at 0x1a20350e80>,\n",
       "        <matplotlib.axes._subplots.AxesSubplot object at 0x1a20363860>],\n",
       "       [<matplotlib.axes._subplots.AxesSubplot object at 0x1a208d5cf8>,\n",
       "        <matplotlib.axes._subplots.AxesSubplot object at 0x1a209364e0>,\n",
       "        <matplotlib.axes._subplots.AxesSubplot object at 0x1a20936518>],\n",
       "       [<matplotlib.axes._subplots.AxesSubplot object at 0x1a209ffeb8>,\n",
       "        <matplotlib.axes._subplots.AxesSubplot object at 0x1a20a7cb70>,\n",
       "        <matplotlib.axes._subplots.AxesSubplot object at 0x1a20ae34e0>]], dtype=object)"
      ]
     },
     "execution_count": 196,
     "metadata": {},
     "output_type": "execute_result"
    },
    {
     "data": {
      "image/png": "[encoded data removed]",
      "text/plain": [
       "<matplotlib.figure.Figure at 0x1a1e997da0>"
      ]
     },
     "metadata": {},
     "output_type": "display_data"
    }
   ],
   "source": [
    "plotting.scatter_matrix(male_data[['PIQ', 'VIQ', 'FSIQ']]) "
   ]
  },
  {
   "cell_type": "markdown",
   "metadata": {},
   "source": [
    "**Observation** - Looks like there are two populations in the data. Can one population be assigned to one gender? For this we split the dataset into males and females"
   ]
  },
  {
   "cell_type": "code",
   "execution_count": 197,
   "metadata": {},
   "outputs": [
    {
     "name": "stderr",
     "output_type": "stream",
     "text": [
      "/Users/jimpfaendtner/anaconda3/lib/python3.6/site-packages/ipykernel_launcher.py:1: FutureWarning: 'pandas.tools.plotting.scatter_matrix' is deprecated, import 'pandas.plotting.scatter_matrix' instead.\n",
      "  \"\"\"Entry point for launching an IPython kernel.\n"
     ]
    },
    {
     "data": {
      "text/plain": [
       "array([[<matplotlib.axes._subplots.AxesSubplot object at 0x1a20c4f278>,\n",
       "        <matplotlib.axes._subplots.AxesSubplot object at 0x1a20d0f3c8>,\n",
       "        <matplotlib.axes._subplots.AxesSubplot object at 0x1a20d1d240>],\n",
       "       [<matplotlib.axes._subplots.AxesSubplot object at 0x1a20ddb128>,\n",
       "        <matplotlib.axes._subplots.AxesSubplot object at 0x1a20e368d0>,\n",
       "        <matplotlib.axes._subplots.AxesSubplot object at 0x1a20e36908>],\n",
       "       [<matplotlib.axes._subplots.AxesSubplot object at 0x1a20f082e8>,\n",
       "        <matplotlib.axes._subplots.AxesSubplot object at 0x1a20f7cf60>,\n",
       "        <matplotlib.axes._subplots.AxesSubplot object at 0x1a20fe38d0>]], dtype=object)"
      ]
     },
     "execution_count": 197,
     "metadata": {},
     "output_type": "execute_result"
    },
    {
     "data": {
      "image/png": "[encoded data removed]",
      "text/plain": [
       "<matplotlib.figure.Figure at 0x1a20690128>"
      ]
     },
     "metadata": {},
     "output_type": "display_data"
    }
   ],
   "source": [
    "plotting.scatter_matrix(female_data[['PIQ', 'VIQ', 'FSIQ']]) "
   ]
  },
  {
   "cell_type": "markdown",
   "metadata": {
    "collapsed": true
   },
   "source": [
    "**Observation** - Both males and female IQs are spread evenly across both populations. So, visually, it cannot be concluded that fe/males belong to one population or the other"
   ]
  },
  {
   "cell_type": "markdown",
   "metadata": {},
   "source": [
    "# Hypothesis Testing\n",
    "We are going to use the scipy.stats package of Python for hypothesis testing\n",
    "## 1-sample T-test\n",
    "The t-score is calculated by\n",
    "t-score = (sampleMean - popMean)/(stdDev/root(N)), where N is the sample size.  \n",
    "Here, it is the ratio of the difference in sample and population and the differences within the sample. So, larrger t-scores indicate larger differences.  "
   ]
  },
  {
   "cell_type": "code",
   "execution_count": 198,
   "metadata": {},
   "outputs": [
    {
     "data": {
      "text/plain": [
       "Ttest_1sampResult(statistic=-0.59846060392264921, pvalue=0.55660059230707548)"
      ]
     },
     "execution_count": 198,
     "metadata": {},
     "output_type": "execute_result"
    }
   ],
   "source": [
    "stats.ttest_1samp(female_data['VIQ'],data['VIQ'].mean())"
   ]
  },
  {
   "cell_type": "code",
   "execution_count": 199,
   "metadata": {},
   "outputs": [
    {
     "data": {
      "text/plain": [
       "Ttest_1sampResult(statistic=0.5057992187427639, pvalue=0.61881547811667326)"
      ]
     },
     "execution_count": 199,
     "metadata": {},
     "output_type": "execute_result"
    }
   ],
   "source": [
    "stats.ttest_1samp(male_data['VIQ'],data['VIQ'].mean())"
   ]
  },
  {
   "cell_type": "markdown",
   "metadata": {},
   "source": [
    "**Conclusion** - The value of t-score for both males and females is small meaning that is close to the population mean. Since the p-value is greater 0.05 we can accept the null hypothesis that both mean VIQ of both males and females is from the same population."
   ]
  },
  {
   "cell_type": "code",
   "execution_count": 200,
   "metadata": {},
   "outputs": [
    {
     "data": {
      "text/plain": [
       "Ttest_1sampResult(statistic=22.58672865494281, pvalue=3.4522704912349388e-15)"
      ]
     },
     "execution_count": 200,
     "metadata": {},
     "output_type": "execute_result"
    }
   ],
   "source": [
    "stats.ttest_1samp(female_data['VIQ'],0)"
   ]
  },
  {
   "cell_type": "code",
   "execution_count": 201,
   "metadata": {},
   "outputs": [
    {
     "data": {
      "text/plain": [
       "Ttest_1sampResult(statistic=20.101158606932216, pvalue=2.9056005307137791e-14)"
      ]
     },
     "execution_count": 201,
     "metadata": {},
     "output_type": "execute_result"
    }
   ],
   "source": [
    "stats.ttest_1samp(male_data['VIQ'],0)"
   ]
  },
  {
   "cell_type": "markdown",
   "metadata": {},
   "source": [
    "**Conclusion** - We can also test a random value that far from the population mean. We see that teh t-score increases and p-value is << 0.05, so we reject the null hypthesis that the males or females VIQ are derived from a population with mean 0."
   ]
  },
  {
   "cell_type": "markdown",
   "metadata": {},
   "source": [
    "## Normality Tests \n",
    "When choosing methods to use on your data, the normality of the data can change things: \n",
    "1. If data is (nearly) Gaussian, use parametric stats methods\n",
    "2. Else use non-parametric stats methods  \n",
    "  \n",
    "You can also transform data, or remove outliers to make it Gaussian. Data here can refer to -\n",
    "1. Input data for models\n",
    "2. Model evaluatin results when comparing models\n",
    "3. Residual errors from model fitting\n",
    "  \n",
    "More on normality tests in Python [here](https://machinelearningmastery.com/a-gentle-introduction-to-normality-tests-in-python/).  \n",
    "\n",
    "### Visual Normality Tests - Histogram and QQ Plots"
   ]
  },
  {
   "cell_type": "code",
   "execution_count": 202,
   "metadata": {},
   "outputs": [
    {
     "data": {
      "text/plain": [
       "array([[<matplotlib.axes._subplots.AxesSubplot object at 0x1a21058dd8>,\n",
       "        <matplotlib.axes._subplots.AxesSubplot object at 0x1a2122c748>],\n",
       "       [<matplotlib.axes._subplots.AxesSubplot object at 0x1a2123cb38>,\n",
       "        <matplotlib.axes._subplots.AxesSubplot object at 0x1a212f5828>]], dtype=object)"
      ]
     },
     "execution_count": 202,
     "metadata": {},
     "output_type": "execute_result"
    },
    {
     "data": {
      "image/png": "[encoded data removed]",
      "text/plain": [
       "<matplotlib.figure.Figure at 0x1a20e6eb70>"
      ]
     },
     "metadata": {},
     "output_type": "display_data"
    }
   ],
   "source": [
    "# Histogram\n",
    "data[['FSIQ','VIQ','PIQ']].hist()"
   ]
  },
  {
   "cell_type": "code",
   "execution_count": 203,
   "metadata": {},
   "outputs": [
    {
     "data": {
      "image/png": "[encoded data removed]",
      "text/plain": [
       "<matplotlib.figure.Figure at 0x1a2142bf28>"
      ]
     },
     "metadata": {},
     "output_type": "display_data"
    }
   ],
   "source": [
    "# Quantile-Quantile Plot/ Q-Q plot\n",
    "# By defauly, prbplot compares to a normal distribution\n",
    "stats.probplot(data['FSIQ'], plot=plt)\n",
    "plt.show()"
   ]
  },
  {
   "cell_type": "code",
   "execution_count": 204,
   "metadata": {},
   "outputs": [
    {
     "data": {
      "image/png": "[encoded data removed]",
      "text/plain": [
       "<matplotlib.figure.Figure at 0x1a2147dc50>"
      ]
     },
     "metadata": {},
     "output_type": "display_data"
    }
   ],
   "source": [
    "stats.probplot(data['VIQ'], plot=plt)\n",
    "plt.show()"
   ]
  },
  {
   "cell_type": "code",
   "execution_count": 205,
   "metadata": {},
   "outputs": [
    {
     "data": {
      "image/png": "[encoded data removed]",
      "text/plain": [
       "<matplotlib.figure.Figure at 0x1a2155f4a8>"
      ]
     },
     "metadata": {},
     "output_type": "display_data"
    }
   ],
   "source": [
    "stats.probplot(data['PIQ'], plot=plt)\n",
    "plt.show()"
   ]
  },
  {
   "cell_type": "markdown",
   "metadata": {},
   "source": [
    "**Observation** - Visually, from histogram and Q-Q plot, the data does not appear normal. In fact, seems like a Gaussian mixture for PIQ and VIQ like [here](https://docs.scipy.org/doc/scipy/reference/generated/scipy.stats.probplot.html).  \n",
    "\n",
    "### Statistical Normality  Tests  \n",
    "We are going to use three types of tests:\n",
    "1. **Shapiro-wilk Test** - Calculates a W-statistic. Small values of W are evidence of departure from normality. Good for small sample sizes. Like most statistical significance tests, if the sample size is sufficiently large this test may detect even trivial departures from the null hypothesis.  \n",
    "2. **D’Agostino’s K^2 Test** - Calculates skew and kurtosis (how much of the distribution is found in the tail). Has power only against the alternatives that the distribution is skewed and/or kurtic.\n",
    "3. **Anderson-Darling Test** - Tests if the data comes from normal, lognormal, weibull or extreme value type I distributions by calculating critical values from each distribution. The test is a modified version of a more sophisticated nonparametric goodness-of-fit statistical test called the Kolmogorov-Smirnov test. A feature of the Anderson-Darling test is that it returns a list of critical values rather than a single p-value. This can provide the basis for a more thorough interpretation of the result.\n",
    "\n",
    "\n",
    "Monte Carlo simulation has found that Shapiro–Wilk has the best power for a given significance, followed closely by Anderson–Darling."
   ]
  },
  {
   "cell_type": "code",
   "execution_count": 206,
   "metadata": {},
   "outputs": [
    {
     "name": "stdout",
     "output_type": "stream",
     "text": [
      "FSIQ Statistic=0.830, p=0.000\n",
      "PIQ Statistic=0.928, p=0.014\n",
      "VIQ Statistic=0.921, p=0.008\n"
     ]
    }
   ],
   "source": [
    "# Shapiro-Wilk\n",
    "print('FSIQ Statistic=%.3f, p=%.3f' \n",
    "      % (stats.shapiro(data['FSIQ'])))\n",
    "print('PIQ Statistic=%.3f, p=%.3f' \n",
    "      % (stats.shapiro(data['PIQ'])))\n",
    "print('VIQ Statistic=%.3f, p=%.3f' \n",
    "      % (stats.shapiro(data['VIQ'])))\n",
    "# p < 0.05, reject null hypothesis \n",
    "# that IQs are normally distributed"
   ]
  },
  {
   "cell_type": "code",
   "execution_count": 207,
   "metadata": {},
   "outputs": [
    {
     "name": "stdout",
     "output_type": "stream",
     "text": [
      "FSIQ Statistic=97.179, p=0.000\n",
      "PIQ Statistic=11.682, p=0.003\n",
      "VIQ Statistic=14.949, p=0.001\n"
     ]
    }
   ],
   "source": [
    "# D’Agostino’s K^2 Test\n",
    "print('FSIQ Statistic=%.3f, p=%.3f' \n",
    "      % (stats.normaltest(data['FSIQ'])))\n",
    "print('PIQ Statistic=%.3f, p=%.3f' \n",
    "      % (stats.normaltest(data['PIQ'])))\n",
    "print('VIQ Statistic=%.3f, p=%.3f' \n",
    "      % (stats.normaltest(data['VIQ'])))\n",
    "# p < 0.05, reject null hypothesis \n",
    "# that IQs are normally distributed"
   ]
  },
  {
   "cell_type": "code",
   "execution_count": 208,
   "metadata": {},
   "outputs": [
    {
     "name": "stdout",
     "output_type": "stream",
     "text": [
      "FSIQ Statistic: 2.900\n",
      "15.000: 0.531, data does not look normal (reject H0)\n",
      "10.000: 0.605, data does not look normal (reject H0)\n",
      "5.000: 0.726, data does not look normal (reject H0)\n",
      "2.500: 0.847, data does not look normal (reject H0)\n",
      "1.000: 1.007, data does not look normal (reject H0)\n"
     ]
    }
   ],
   "source": [
    "# Anderson-Darling Test\n",
    "result = stats.anderson(data['FSIQ'])\n",
    "print('FSIQ Statistic: %.3f' % result.statistic)\n",
    "p = 0\n",
    "for i in range(len(result.critical_values)):\n",
    "    sl, cv = result.significance_level[i], result.critical_values[i]\n",
    "    if result.statistic < result.critical_values[i]:\n",
    "        print('%.3f: %.3f, data looks normal (fail to reject H0)' % (sl, cv))\n",
    "    else:\n",
    "        print('%.3f: %.3f, data does not look normal (reject H0)' % (sl, cv))"
   ]
  },
  {
   "cell_type": "code",
   "execution_count": 209,
   "metadata": {},
   "outputs": [
    {
     "name": "stdout",
     "output_type": "stream",
     "text": [
      "VIQ Statistic: 1.255\n",
      "15.000: 0.531, data does not look normal (reject H0)\n",
      "10.000: 0.605, data does not look normal (reject H0)\n",
      "5.000: 0.726, data does not look normal (reject H0)\n",
      "2.500: 0.847, data does not look normal (reject H0)\n",
      "1.000: 1.007, data does not look normal (reject H0)\n"
     ]
    }
   ],
   "source": [
    "# Anderson-Darling Test\n",
    "result = stats.anderson(data['VIQ'])\n",
    "print('VIQ Statistic: %.3f' % result.statistic)\n",
    "p = 0\n",
    "for i in range(len(result.critical_values)):\n",
    "    sl, cv = result.significance_level[i], result.critical_values[i]\n",
    "    if result.statistic < result.critical_values[i]:\n",
    "        print('%.3f: %.3f, data looks normal (fail to reject H0)' % (sl, cv))\n",
    "    else:\n",
    "        print('%.3f: %.3f, data does not look normal (reject H0)' % (sl, cv))"
   ]
  },
  {
   "cell_type": "code",
   "execution_count": 210,
   "metadata": {},
   "outputs": [
    {
     "name": "stdout",
     "output_type": "stream",
     "text": [
      "PIQ Statistic: 1.198\n",
      "15.000: 0.531, data does not look normal (reject H0)\n",
      "10.000: 0.605, data does not look normal (reject H0)\n",
      "5.000: 0.726, data does not look normal (reject H0)\n",
      "2.500: 0.847, data does not look normal (reject H0)\n",
      "1.000: 1.007, data does not look normal (reject H0)\n"
     ]
    }
   ],
   "source": [
    "# Anderson-Darling Test\n",
    "result = stats.anderson(data['PIQ'])\n",
    "print('PIQ Statistic: %.3f' % result.statistic)\n",
    "p = 0\n",
    "for i in range(len(result.critical_values)):\n",
    "    sl, cv = result.significance_level[i], result.critical_values[i]\n",
    "    if result.statistic < result.critical_values[i]:\n",
    "        print('%.3f: %.3f, data looks normal (fail to reject H0)' % (sl, cv))\n",
    "    else:\n",
    "        print('%.3f: %.3f, data does not look normal (reject H0)' % (sl, cv))"
   ]
  },
  {
   "cell_type": "markdown",
   "metadata": {},
   "source": [
    "## 2-Sample T-test\n",
    "There are two types of 2-sample t-tests that we can conduct on data (independent sample when drawing from independent populations, and paired sample when drawing from the same population at different times).  \n",
    "\n",
    "**Independent 2-sample T-test** - Here, we assume the females and males are independent, so we can do the t-test."
   ]
  },
  {
   "cell_type": "code",
   "execution_count": 211,
   "metadata": {},
   "outputs": [
    {
     "data": {
      "text/plain": [
       "Ttest_indResult(statistic=-0.77261617232750113, pvalue=0.44452876778583217)"
      ]
     },
     "execution_count": 211,
     "metadata": {},
     "output_type": "execute_result"
    }
   ],
   "source": [
    "# T-test\n",
    "stats.ttest_ind(female_data['VIQ'], male_data['VIQ']) \n",
    "# Since the t-test assumes that the data\n",
    "# is normally distributed, this might be inaccurate"
   ]
  },
  {
   "cell_type": "code",
   "execution_count": 212,
   "metadata": {},
   "outputs": [
    {
     "data": {
      "text/plain": [
       "MannwhitneyuResult(statistic=164.5, pvalue=0.17114434343636575)"
      ]
     },
     "execution_count": 212,
     "metadata": {},
     "output_type": "execute_result"
    }
   ],
   "source": [
    "# Mann-Whitney rank test\n",
    "# For samples >= 20 - we are just there\n",
    "stats.mannwhitneyu(female_data['VIQ'], male_data['VIQ']) \n",
    "# Does not assume normality/non-parameteric"
   ]
  },
  {
   "cell_type": "markdown",
   "metadata": {},
   "source": [
    "**Conclusion** - Since the t-score is very small and Mann-Whitney score is higher, and p-value is > 0.05, we can can accept the null hypothesis that both samples are drawn from the same population. And seeing the scatterplot VIQ distribution, we already saw that males and female IQs were equally distributed and there weren't any notable differences.  \n",
    "  \n",
    "**Paired 2-sample T-test** - Some of the variable pairs like FSIQ & VIQ, or FSIQ & PIQ may be correlated or confounding variables. Hence, to ascertain their differences, we can use a paired/repeated measures test."
   ]
  },
  {
   "cell_type": "code",
   "execution_count": 213,
   "metadata": {},
   "outputs": [
    {
     "data": {
      "text/plain": [
       "Ttest_relResult(statistic=1.7842019405859857, pvalue=0.082172638183642358)"
      ]
     },
     "execution_count": 213,
     "metadata": {},
     "output_type": "execute_result"
    }
   ],
   "source": [
    "# Checking if they come from the same distribution\n",
    "stats.ttest_rel(data['FSIQ'], data['PIQ'])  "
   ]
  },
  {
   "cell_type": "markdown",
   "metadata": {},
   "source": [
    "**Observation** - The t-score is rather small, and p-value is fairly close to the 0.05 threshold, so we can't say that they are different with certainty. But this calculation is the same as a 1-sample T-test on their difference - where the null hypothesis is the ean is zero/or no difference between samples."
   ]
  },
  {
   "cell_type": "code",
   "execution_count": 214,
   "metadata": {},
   "outputs": [
    {
     "data": {
      "text/plain": [
       "Ttest_1sampResult(statistic=1.7842019405859857, pvalue=0.082172638183642358)"
      ]
     },
     "execution_count": 214,
     "metadata": {},
     "output_type": "execute_result"
    }
   ],
   "source": [
    "stats.ttest_1samp(data['FSIQ'] - data['PIQ'], 0)"
   ]
  },
  {
   "cell_type": "markdown",
   "metadata": {},
   "source": [
    "Since the t-test assumes Gaussian distribution, and is parametric, we can also use a non-parameteric test like the **Wilcoxon signed-rank test** (for paired or Mann-Whitney U test for independent) which does not assume anything about the underlying assumption.  \n",
    "  \n",
    " **Differences between t-test and wilcoxon test**  -\n",
    " 1. The Wilcoxon signed rank test is a non-paracontinuous-level test, in contrast to the dependent samples t-tests.  \n",
    " 2. Whereas the dependent samples t-test tests whether the average difference between two observations is 0, the Wilcoxon test tests whether the difference between two observations has a mean signed rank of 0.  Thus, Wilcoxon is much more robust against outliers and heavy tail distributions.  \n",
    " \n",
    "Because the Wilcoxon sign test is a non-paracontinuous-level test it does not require a special distribution of the dependent variable in the analysis.  Therefore it is the best test to compare mean scores when the dependent variable is not normally distributed and at least of ordinal scale."
   ]
  },
  {
   "cell_type": "code",
   "execution_count": 215,
   "metadata": {},
   "outputs": [
    {
     "data": {
      "text/plain": [
       "WilcoxonResult(statistic=274.5, pvalue=0.10659492713506856)"
      ]
     },
     "execution_count": 215,
     "metadata": {},
     "output_type": "execute_result"
    }
   ],
   "source": [
    "stats.wilcoxon(data['FSIQ'], data['PIQ'])   "
   ]
  },
  {
   "cell_type": "markdown",
   "metadata": {},
   "source": [
    "The Wilcoxon test does not test for equality of means, rather it tests\n",
    "H0:P(Xa>Xb)=0.5\n",
    "namely that a randomly drawn observation of group a has 50% chance of being larger than a randomly drawn observation from group b. This is very computer-intensive, so usually for such large sample sizes the asymptotic normality of W is used for calculating the p-value\n",
    "**Conclusion** - FSIQ and PIQ seem to come from the same distribution since higher values of test statistics, and p > 0.05 tells us that this null hypothesis is true"
   ]
  },
  {
   "cell_type": "markdown",
   "metadata": {},
   "source": [
    "## Final conclusion\n",
    "1. From **visual (histogram, Q-Q plots) and statistical (Shapiro-wilk, D'Agnostio K^2, and Anderson-Darling) normality tests**, we concluded that the data for IQs was not normal.\n",
    "2. From **single sample tests**, we saw that the IQs are likely from the same distribution.\n",
    "3. From **2-sample independent tests** we see that female and male IQs cannot be said to come from different distributions.\n",
    "4. From **2-sample paired tests** we see that all IQs might be samples from the same distribution.  "
   ]
  },
  {
   "cell_type": "code",
   "execution_count": null,
   "metadata": {
    "collapsed": true
   },
   "outputs": [],
   "source": []
  },
  {
   "cell_type": "code",
   "execution_count": null,
   "metadata": {
    "collapsed": true
   },
   "outputs": [],
   "source": []
  }
 ],
 "metadata": {
  "kernelspec": {
   "display_name": "Python 3",
   "language": "python",
   "name": "python3"
  },
  "language_info": {
   "codemirror_mode": {
    "name": "ipython",
    "version": 3
   },
   "file_extension": ".py",
   "mimetype": "text/x-python",
   "name": "python",
   "nbconvert_exporter": "python",
   "pygments_lexer": "ipython3",
   "version": "3.6.2"
  }
 },
 "nbformat": 4,
 "nbformat_minor": 2
}

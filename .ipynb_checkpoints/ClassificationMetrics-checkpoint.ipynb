{
 "cells": [
  {
   "cell_type": "markdown",
   "metadata": {},
   "source": [
    "# Classification Metrics\n",
    "Sklearn provides a number of metris for scoring a classification algorithm. Let us take a look at each one of them. Inspired from [this article](https://machinelearningmastery.com/metrics-evaluate-machine-learning-algorithms-python/)\n",
    "\n",
    "#### Importing libraries"
   ]
  },
  {
   "cell_type": "code",
   "execution_count": 1,
   "metadata": {},
   "outputs": [
    {
     "name": "stderr",
     "output_type": "stream",
     "text": [
      "ERROR:root:Line magic function `%maptlotlib` not found.\n"
     ]
    }
   ],
   "source": [
    "%maptlotlib inline\n",
    "import numpy as np\n",
    "import matplotlib.pyplot as plt\n",
    "import pandas as pd\n",
    "\n",
    "from sklearn.model_selection import train_test_split, KFold, cross_val_score\n",
    "from sklearn.linear_model import LogisticRegression\n",
    "\n",
    "from sklearn.metrics import confusion_matrix, classification_report"
   ]
  },
  {
   "cell_type": "code",
   "execution_count": 2,
   "metadata": {
    "collapsed": true
   },
   "outputs": [],
   "source": [
    "# Loading data set\n",
    "names = ['preg', 'plas', 'pres', 'skin', \n",
    "         'test', 'mass', 'pedi', 'age', 'class']\n",
    "data = pd.read_csv('data/diabetes.csv', names=names)"
   ]
  },
  {
   "cell_type": "markdown",
   "metadata": {},
   "source": [
    "### Common Metrics\n",
    "**Accuracy** = (1 – Error) = (TruePositive + TrueNegative)/(Total Population) = Pr(C), the probability of a correct classification    \n",
    "**Sensitivity/Recall** = TruePositive/(TruePositive + Falsenegative)   \n",
    "**Specificity/Precision** = TrueNegative/(TrueNegative + FalsePositive)  \n",
    "### Accuracy\n",
    "accuracy = (number of correct predictions)/(total number of predctions)\n",
    "This metric simple, but can be unreliable because:\n",
    "1. All errors (False Positives and False Negatives) are not the same\n",
    "2. Only suitable when observations in each class are equal"
   ]
  },
  {
   "cell_type": "code",
   "execution_count": 3,
   "metadata": {},
   "outputs": [
    {
     "name": "stdout",
     "output_type": "stream",
     "text": [
      "Accuracy: 0.770 (0.048)\n"
     ]
    },
    {
     "name": "stderr",
     "output_type": "stream",
     "text": [
      "/Users/jimpfaendtner/Library/Python/2.7/lib/python/site-packages/sklearn/linear_model/logistic.py:432: FutureWarning: Default solver will be changed to 'lbfgs' in 0.22. Specify a solver to silence this warning.\n",
      "  FutureWarning)\n"
     ]
    }
   ],
   "source": [
    "array = data.values\n",
    "X = array[:,0:8]\n",
    "Y = array[:,8]\n",
    "seed = 7\n",
    "kfold = KFold(n_splits=10, random_state=seed)\n",
    "model = LogisticRegression()\n",
    "scoring = 'accuracy'\n",
    "results = cross_val_score(model, X, Y, cv=kfold, scoring=scoring)\n",
    "print(\"Accuracy: %.3f (%.3f)\") % (results.mean(), results.std())"
   ]
  },
  {
   "cell_type": "markdown",
   "metadata": {},
   "source": [
    "### Logarithmic Loss\n",
    "<a href=\"https://www.codecogs.com/eqnedit.php?latex=\\frac{-1}{N}\\times&space;\\sum&space;_{i=1}^{N}&space;\\sum&space;_{i=1}^{classes}y&space;_{ij}log&space;p&space;_{ij}\" target=\"_blank\"><img src=\"https://latex.codecogs.com/gif.latex?\\frac{-1}{N}\\times&space;\\sum&space;_{i=1}^{N}&space;\\sum&space;_{i=1}^{classes}y&space;_{ij}log&space;p&space;_{ij}\" title=\"\\frac{-1}{N}\\times \\sum _{i=1}^{N} \\sum _{i=1}^{classes}y _{ij}log p _{ij}\" /></a>\n",
    "\n",
    "We want this metric to get to zero to improve the model. It is related to the cross-entropy function. This function penalizes wrong classifications heavily (items that were correctly classified but with a low probability)"
   ]
  },
  {
   "cell_type": "code",
   "execution_count": 4,
   "metadata": {},
   "outputs": [
    {
     "name": "stdout",
     "output_type": "stream",
     "text": [
      "Logloss: -0.493 (0.047)\n"
     ]
    }
   ],
   "source": [
    "scoring = 'neg_log_loss'\n",
    "results = cross_val_score(model, X, Y, cv=kfold, scoring=scoring)\n",
    "print(\"Logloss: %.3f (%.3f)\") % (results.mean(), results.std())"
   ]
  },
  {
   "cell_type": "markdown",
   "metadata": {},
   "source": [
    "### Area Under ROC Curve\n",
    "ROC = Receiver Operating Characteristic (ROC) curve.   Earlier used for signal detection in radar.  \n",
    "Plot of TruePostives (y) over FalsePostives(x). Where a test with no power lies on the x=y line, and a perfect classifier goes up the y-axis and then the x-axis.  "
   ]
  },
  {
   "cell_type": "code",
   "execution_count": 5,
   "metadata": {},
   "outputs": [
    {
     "name": "stdout",
     "output_type": "stream",
     "text": [
      "AUC: 0.824 (0.041)\n"
     ]
    }
   ],
   "source": [
    "scoring = 'roc_auc'\n",
    "results = cross_val_score(model, X, Y, cv=kfold, scoring=scoring)\n",
    "print(\"AUC: %.3f (%.3f)\") % (results.mean(), results.std())"
   ]
  },
  {
   "cell_type": "markdown",
   "metadata": {},
   "source": [
    "### Confusion Matrix"
   ]
  },
  {
   "cell_type": "code",
   "execution_count": 6,
   "metadata": {},
   "outputs": [
    {
     "data": {
      "image/png": "[encoded data removed]",
      "text/plain": [
       "<Figure size 288x288 with 2 Axes>"
      ]
     },
     "metadata": {
      "needs_background": "light"
     },
     "output_type": "display_data"
    }
   ],
   "source": [
    "X_train, X_test, Y_train, Y_test = train_test_split(X, Y, test_size=0.33, random_state=420)\n",
    "model = LogisticRegression()\n",
    "model.fit(X_train, Y_train)\n",
    "predicted = model.predict(X_test)\n",
    "matrix = confusion_matrix(Y_test, predicted)\n",
    "plt.matshow(matrix)\n",
    "plt.ylabel(\"True Label\")\n",
    "plt.xlabel(\"Predicted label\")\n",
    "plt.colorbar()\n",
    "plt.show()"
   ]
  },
  {
   "cell_type": "markdown",
   "metadata": {},
   "source": [
    "### Classification Report"
   ]
  },
  {
   "cell_type": "code",
   "execution_count": 7,
   "metadata": {},
   "outputs": [
    {
     "name": "stdout",
     "output_type": "stream",
     "text": [
      "              precision    recall  f1-score   support\n",
      "\n",
      "         0.0       0.74      0.90      0.81       166\n",
      "         1.0       0.69      0.40      0.50        88\n",
      "\n",
      "   micro avg       0.73      0.73      0.73       254\n",
      "   macro avg       0.71      0.65      0.66       254\n",
      "weighted avg       0.72      0.73      0.71       254\n",
      "\n"
     ]
    }
   ],
   "source": [
    "print classification_report(Y_test, predicted)"
   ]
  },
  {
   "cell_type": "code",
   "execution_count": null,
   "metadata": {
    "collapsed": true
   },
   "outputs": [],
   "source": []
  }
 ],
 "metadata": {
  "kernelspec": {
   "display_name": "Python 2",
   "language": "python",
   "name": "python2"
  },
  "language_info": {
   "codemirror_mode": {
    "name": "ipython",
    "version": 2
   },
   "file_extension": ".py",
   "mimetype": "text/x-python",
   "name": "python",
   "nbconvert_exporter": "python",
   "pygments_lexer": "ipython2",
   "version": "2.7.15"
  }
 },
 "nbformat": 4,
 "nbformat_minor": 2
}
